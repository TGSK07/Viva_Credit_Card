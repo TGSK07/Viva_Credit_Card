{
 "cells": [
  {
   "cell_type": "code",
   "execution_count": null,
   "id": "013d188e-5648-4849-a60a-32d209bf1a95",
   "metadata": {},
   "outputs": [],
   "source": [
    "# Problem Statement\n",
    "Business Problem \n",
    "A Romania -based credit card issuer, Viva-Credit, (https://vivacredit.ro) wants to better predict \n",
    "the likelihood of default for its customers, as well as identify the key drivers that determine this \n",
    "likelihood. \n",
    "This would inform the issuer’s decisions on who to give a credit card to and what credit limit to \n",
    "provide. \n",
    "It would also help the issuer have a better understanding of their current and potential customers, \n",
    "which would inform their future strategy, including their planning of offering targeted credit \n",
    "products to their customers. \n",
    "The credit card issuer has gathered information on 30000 customers. The dataset contains \n",
    "information on 24 variables, including demographic factors, credit data, history of payment, and \n",
    "bill statements of credit card customers from April 2005 to September 2005, as well as \n",
    "information on the outcome: did the customer default or not? \n",
    "Can we help VivaCredit to slove the problem?"
   ]
  },
  {
   "cell_type": "code",
   "execution_count": null,
   "id": "5ef048d2-67f6-4b30-a7ce-c4aa2cdbc57f",
   "metadata": {},
   "outputs": [],
   "source": []
  },
  {
   "cell_type": "code",
   "execution_count": null,
   "id": "c59d63db-72cc-4edd-84cb-53e2eb5d9de3",
   "metadata": {},
   "outputs": [],
   "source": []
  },
  {
   "cell_type": "markdown",
   "id": "9201b46c-5013-4595-80d5-7a567e4a1a92",
   "metadata": {},
   "source": [
    "# Import Libraries "
   ]
  },
  {
   "cell_type": "code",
   "execution_count": null,
   "id": "4866e8ed-02f4-402a-87fc-f147c11ae7cb",
   "metadata": {},
   "outputs": [],
   "source": []
  },
  {
   "cell_type": "code",
   "execution_count": null,
   "id": "d3ef4370-45df-4227-a876-2962fa945888",
   "metadata": {},
   "outputs": [],
   "source": []
  },
  {
   "cell_type": "code",
   "execution_count": null,
   "id": "e334d877-9630-4953-96a0-0cf4f57f87d2",
   "metadata": {},
   "outputs": [],
   "source": []
  },
  {
   "cell_type": "code",
   "execution_count": null,
   "id": "e06574a6-f27d-4ba1-a870-ec945e110c28",
   "metadata": {},
   "outputs": [],
   "source": []
  },
  {
   "cell_type": "code",
   "execution_count": null,
   "id": "27c12c62-84e9-4bc6-aa1b-905658cd8c96",
   "metadata": {},
   "outputs": [],
   "source": []
  },
  {
   "cell_type": "code",
   "execution_count": null,
   "id": "296e5c18-7ee6-442c-9be6-5669f34035f9",
   "metadata": {},
   "outputs": [],
   "source": []
  }
 ],
 "metadata": {
  "kernelspec": {
   "display_name": "Python 3 (ipykernel)",
   "language": "python",
   "name": "python3"
  },
  "language_info": {
   "codemirror_mode": {
    "name": "ipython",
    "version": 3
   },
   "file_extension": ".py",
   "mimetype": "text/x-python",
   "name": "python",
   "nbconvert_exporter": "python",
   "pygments_lexer": "ipython3",
   "version": "3.13.3"
  }
 },
 "nbformat": 4,
 "nbformat_minor": 5
}
